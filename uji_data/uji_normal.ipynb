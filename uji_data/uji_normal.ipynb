{
 "cells": [
  {
   "cell_type": "code",
   "execution_count": 1,
   "metadata": {},
   "outputs": [],
   "source": [
    "import pandas as pd\n",
    "from scipy.stats import kstest\n",
    "import matplotlib\n",
    "import matplotlib.pyplot as plt"
   ]
  },
  {
   "cell_type": "code",
   "execution_count": 2,
   "metadata": {},
   "outputs": [],
   "source": [
    "data_all = pd.read_csv(r'/Users/Jia/Downloads/data_skripsi/uji_data/merged_data_all.csv')"
   ]
  },
  {
   "cell_type": "markdown",
   "metadata": {},
   "source": [
    "COBA UJI NORMAL TB"
   ]
  },
  {
   "cell_type": "code",
   "execution_count": 3,
   "metadata": {},
   "outputs": [
    {
     "data": {
      "text/plain": [
       "KstestResult(statistic=0.9799683287581669, pvalue=0.0, statistic_location=4, statistic_sign=-1)"
      ]
     },
     "execution_count": 3,
     "metadata": {},
     "output_type": "execute_result"
    }
   ],
   "source": [
    "tb = kstest(data_all['tb'], \"norm\") \n",
    "tb"
   ]
  },
  {
   "cell_type": "code",
   "execution_count": 4,
   "metadata": {},
   "outputs": [
    {
     "name": "stdout",
     "output_type": "stream",
     "text": [
      "KS Statistic: 0.9799683287581669\n",
      "P-Value: 0.0\n",
      "The distribution is not normal (reject null hypothesis)\n"
     ]
    }
   ],
   "source": [
    "column_to_test = data_all['tb'].values\n",
    "\n",
    "# Perform the Kolmogorov-Smirnov test\n",
    "ks_statistic, ks_p_value = kstest(column_to_test, 'norm')\n",
    "\n",
    "# Display the results\n",
    "print(f\"KS Statistic: {ks_statistic}\")\n",
    "print(f\"P-Value: {ks_p_value}\")\n",
    "\n",
    "# Decide whether to reject the null hypothesis\n",
    "alpha = 0.05\n",
    "if ks_p_value < alpha:\n",
    "    print(\"The distribution is not normal (reject null hypothesis)\")\n",
    "else:\n",
    "    print(\"No significant evidence to reject the null hypothesis (data is likely normal)\")"
   ]
  },
  {
   "cell_type": "code",
   "execution_count": 5,
   "metadata": {},
   "outputs": [
    {
     "data": {
      "text/plain": [
       "(array([11.,  9., 40., 62., 58., 52., 23., 25., 10., 10.]),\n",
       " array([   0.,  121.,  242.,  363.,  484.,  605.,  726.,  847.,  968.,\n",
       "        1089., 1210.]),\n",
       " <BarContainer object of 10 artists>)"
      ]
     },
     "execution_count": 5,
     "metadata": {},
     "output_type": "execute_result"
    },
    {
     "data": {
      "image/png": "[encoded data removed]",
      "text/plain": [
       "<Figure size 640x480 with 1 Axes>"
      ]
     },
     "metadata": {},
     "output_type": "display_data"
    }
   ],
   "source": [
    "plt.hist(data_all['tb'])"
   ]
  },
  {
   "cell_type": "markdown",
   "metadata": {},
   "source": [
    "COBA UJI NORMAL PM 2.5"
   ]
  },
  {
   "cell_type": "code",
   "execution_count": 6,
   "metadata": {},
   "outputs": [
    {
     "data": {
      "text/plain": [
       "KstestResult(statistic=1.0, pvalue=0.0, statistic_location=30.06870850912783, statistic_sign=-1)"
      ]
     },
     "execution_count": 6,
     "metadata": {},
     "output_type": "execute_result"
    }
   ],
   "source": [
    "pm25 = kstest(data_all['pm2p5'], \"norm\") \n",
    "pm25"
   ]
  },
  {
   "cell_type": "code",
   "execution_count": 7,
   "metadata": {},
   "outputs": [
    {
     "data": {
      "text/plain": [
       "(array([ 7., 12., 37., 30., 37., 40., 65., 46., 17.,  9.]),\n",
       " array([30.06870851, 34.52628392, 38.98385934, 43.44143475, 47.89901016,\n",
       "        52.35658558, 56.81416099, 61.27173641, 65.72931182, 70.18688723,\n",
       "        74.64446265]),\n",
       " <BarContainer object of 10 artists>)"
      ]
     },
     "execution_count": 7,
     "metadata": {},
     "output_type": "execute_result"
    },
    {
     "data": {
      "image/png": "[encoded data removed]",
      "text/plain": [
       "<Figure size 640x480 with 1 Axes>"
      ]
     },
     "metadata": {},
     "output_type": "display_data"
    }
   ],
   "source": [
    "plt.hist(data_all['pm2p5'])"
   ]
  },
  {
   "cell_type": "code",
   "execution_count": 8,
   "metadata": {},
   "outputs": [
    {
     "name": "stdout",
     "output_type": "stream",
     "text": [
      "KS Statistic: 1.0\n",
      "P-Value: 0.0\n",
      "The distribution is not normal (reject null hypothesis)\n"
     ]
    }
   ],
   "source": [
    "column_to_test = data_all['pm2p5'].values\n",
    "\n",
    "# Perform the Kolmogorov-Smirnov test\n",
    "ks_statistic, ks_p_value = kstest(column_to_test, 'norm')\n",
    "\n",
    "# Display the results\n",
    "print(f\"KS Statistic: {ks_statistic}\")\n",
    "print(f\"P-Value: {ks_p_value}\")\n",
    "\n",
    "# Decide whether to reject the null hypothesis\n",
    "alpha = 0.05\n",
    "if ks_p_value < alpha:\n",
    "    print(\"The distribution is not normal (reject null hypothesis)\")\n",
    "else:\n",
    "    print(\"No significant evidence to reject the null hypothesis (data is likely normal)\")"
   ]
  },
  {
   "cell_type": "markdown",
   "metadata": {},
   "source": [
    "COBA UJI NORMAL PM 10"
   ]
  },
  {
   "cell_type": "code",
   "execution_count": 9,
   "metadata": {},
   "outputs": [
    {
     "data": {
      "text/plain": [
       "KstestResult(statistic=1.0, pvalue=0.0, statistic_location=43.20462240402313, statistic_sign=-1)"
      ]
     },
     "execution_count": 9,
     "metadata": {},
     "output_type": "execute_result"
    }
   ],
   "source": [
    "pm10 = kstest(data_all['pm10'], \"norm\") \n",
    "pm10"
   ]
  },
  {
   "cell_type": "code",
   "execution_count": 10,
   "metadata": {},
   "outputs": [
    {
     "data": {
      "text/plain": [
       "(array([ 7., 12., 39., 31., 35., 41., 67., 42., 17.,  9.]),\n",
       " array([ 43.2046224 ,  49.49913054,  55.79363868,  62.08814682,\n",
       "         68.38265496,  74.6771631 ,  80.97167123,  87.26617937,\n",
       "         93.56068751,  99.85519565, 106.14970379]),\n",
       " <BarContainer object of 10 artists>)"
      ]
     },
     "execution_count": 10,
     "metadata": {},
     "output_type": "execute_result"
    },
    {
     "data": {
      "image/png": "[encoded data removed]",
      "text/plain": [
       "<Figure size 640x480 with 1 Axes>"
      ]
     },
     "metadata": {},
     "output_type": "display_data"
    }
   ],
   "source": [
    "plt.hist(data_all['pm10'])"
   ]
  },
  {
   "cell_type": "code",
   "execution_count": 11,
   "metadata": {},
   "outputs": [
    {
     "name": "stdout",
     "output_type": "stream",
     "text": [
      "KS Statistic: 1.0\n",
      "P-Value: 0.0\n",
      "The distribution is not normal (reject null hypothesis)\n"
     ]
    }
   ],
   "source": [
    "column_to_test = data_all['pm10'].values\n",
    "\n",
    "# Perform the Kolmogorov-Smirnov test\n",
    "ks_statistic, ks_p_value = kstest(column_to_test, 'norm')\n",
    "\n",
    "# Display the results\n",
    "print(f\"KS Statistic: {ks_statistic}\")\n",
    "print(f\"P-Value: {ks_p_value}\")\n",
    "\n",
    "# Decide whether to reject the null hypothesis\n",
    "alpha = 0.05\n",
    "if ks_p_value < alpha:\n",
    "    print(\"The distribution is not normal (reject null hypothesis)\")\n",
    "else:\n",
    "    print(\"No significant evidence to reject the null hypothesis (data is likely normal)\")"
   ]
  },
  {
   "cell_type": "markdown",
   "metadata": {},
   "source": [
    "COBA UJI NORMAL SO2"
   ]
  },
  {
   "cell_type": "code",
   "execution_count": 12,
   "metadata": {},
   "outputs": [
    {
     "data": {
      "text/plain": [
       "KstestResult(statistic=1.0, pvalue=0.0, statistic_location=59.94424293119033, statistic_sign=-1)"
      ]
     },
     "execution_count": 12,
     "metadata": {},
     "output_type": "execute_result"
    }
   ],
   "source": [
    "so2 = kstest(data_all['so2'], \"norm\") \n",
    "so2"
   ]
  },
  {
   "cell_type": "code",
   "execution_count": 13,
   "metadata": {},
   "outputs": [
    {
     "data": {
      "text/plain": [
       "(array([11., 23., 27., 36., 50., 37., 38., 35., 31., 12.]),\n",
       " array([ 59.94424293,  67.67028803,  75.39633314,  83.12237824,\n",
       "         90.84842335,  98.57446845, 106.30051355, 114.02655866,\n",
       "        121.75260376, 129.47864886, 137.20469397]),\n",
       " <BarContainer object of 10 artists>)"
      ]
     },
     "execution_count": 13,
     "metadata": {},
     "output_type": "execute_result"
    },
    {
     "data": {
      "image/png": "[encoded data removed]",
      "text/plain": [
       "<Figure size 640x480 with 1 Axes>"
      ]
     },
     "metadata": {},
     "output_type": "display_data"
    }
   ],
   "source": [
    "plt.hist(data_all['so2'])"
   ]
  },
  {
   "cell_type": "code",
   "execution_count": 14,
   "metadata": {},
   "outputs": [
    {
     "name": "stdout",
     "output_type": "stream",
     "text": [
      "KS Statistic: 1.0\n",
      "P-Value: 0.0\n",
      "The distribution is not normal (reject null hypothesis)\n"
     ]
    }
   ],
   "source": [
    "column_to_test = data_all['so2'].values\n",
    "\n",
    "# Perform the Kolmogorov-Smirnov test\n",
    "ks_statistic, ks_p_value = kstest(column_to_test, 'norm')\n",
    "\n",
    "# Display the results\n",
    "print(f\"KS Statistic: {ks_statistic}\")\n",
    "print(f\"P-Value: {ks_p_value}\")\n",
    "\n",
    "# Decide whether to reject the null hypothesis\n",
    "alpha = 0.05\n",
    "if ks_p_value < alpha:\n",
    "    print(\"The distribution is not normal (reject null hypothesis)\")\n",
    "else:\n",
    "    print(\"No significant evidence to reject the null hypothesis (data is likely normal)\")"
   ]
  },
  {
   "cell_type": "markdown",
   "metadata": {},
   "source": [
    "COBA UJI NORMAL RH"
   ]
  },
  {
   "cell_type": "code",
   "execution_count": 15,
   "metadata": {},
   "outputs": [
    {
     "data": {
      "text/plain": [
       "KstestResult(statistic=1.0, pvalue=0.0, statistic_location=68.11966451009108, statistic_sign=-1)"
      ]
     },
     "execution_count": 15,
     "metadata": {},
     "output_type": "execute_result"
    }
   ],
   "source": [
    "rh = kstest(data_all['rh'], \"norm\") \n",
    "rh"
   ]
  },
  {
   "cell_type": "code",
   "execution_count": 16,
   "metadata": {},
   "outputs": [
    {
     "data": {
      "text/plain": [
       "(array([17., 14.,  7., 19.,  6., 26., 49., 63., 74., 25.]),\n",
       " array([68.11966451, 70.03193451, 71.94420451, 73.85647451, 75.76874451,\n",
       "        77.68101451, 79.59328451, 81.5055545 , 83.4178245 , 85.3300945 ,\n",
       "        87.2423645 ]),\n",
       " <BarContainer object of 10 artists>)"
      ]
     },
     "execution_count": 16,
     "metadata": {},
     "output_type": "execute_result"
    },
    {
     "data": {
      "image/png": "[encoded data removed]",
      "text/plain": [
       "<Figure size 640x480 with 1 Axes>"
      ]
     },
     "metadata": {},
     "output_type": "display_data"
    }
   ],
   "source": [
    "plt.hist(data_all['rh'])"
   ]
  },
  {
   "cell_type": "code",
   "execution_count": 17,
   "metadata": {},
   "outputs": [
    {
     "name": "stdout",
     "output_type": "stream",
     "text": [
      "KS Statistic: 1.0\n",
      "P-Value: 0.0\n",
      "The distribution is not normal (reject null hypothesis)\n"
     ]
    }
   ],
   "source": [
    "column_to_test = data_all['rh'].values\n",
    "\n",
    "# Perform the Kolmogorov-Smirnov test\n",
    "ks_statistic, ks_p_value = kstest(column_to_test, 'norm')\n",
    "\n",
    "# Display the results\n",
    "print(f\"KS Statistic: {ks_statistic}\")\n",
    "print(f\"P-Value: {ks_p_value}\")\n",
    "\n",
    "# Decide whether to reject the null hypothesis\n",
    "alpha = 0.05\n",
    "if ks_p_value < alpha:\n",
    "    print(\"The distribution is not normal (reject null hypothesis)\")\n",
    "else:\n",
    "    print(\"No significant evidence to reject the null hypothesis (data is likely normal)\")"
   ]
  },
  {
   "cell_type": "markdown",
   "metadata": {},
   "source": [
    "COBA UJI NORMAL TP"
   ]
  },
  {
   "cell_type": "code",
   "execution_count": 18,
   "metadata": {},
   "outputs": [
    {
     "data": {
      "text/plain": [
       "KstestResult(statistic=0.8124174595504956, pvalue=3.5368004115852593e-216, statistic_location=1.520049981773, statistic_sign=-1)"
      ]
     },
     "execution_count": 18,
     "metadata": {},
     "output_type": "execute_result"
    }
   ],
   "source": [
    "tp = kstest(data_all['tp'], \"norm\") \n",
    "tp"
   ]
  },
  {
   "cell_type": "code",
   "execution_count": 20,
   "metadata": {},
   "outputs": [
    {
     "data": {
      "text/plain": [
       "(array([55., 39., 33., 55., 41., 32., 26.,  4.,  8.,  7.]),\n",
       " array([ 0.2866577 ,  1.87471346,  3.46276923,  5.05082499,  6.63888076,\n",
       "         8.22693652,  9.81499229, 11.40304805, 12.99110382, 14.57915958,\n",
       "        16.16721535]),\n",
       " <BarContainer object of 10 artists>)"
      ]
     },
     "execution_count": 20,
     "metadata": {},
     "output_type": "execute_result"
    },
    {
     "data": {
      "image/png": "[encoded data removed]",
      "text/plain": [
       "<Figure size 640x480 with 1 Axes>"
      ]
     },
     "metadata": {},
     "output_type": "display_data"
    }
   ],
   "source": [
    "plt.hist(data_all['tp'])"
   ]
  },
  {
   "cell_type": "code",
   "execution_count": 21,
   "metadata": {},
   "outputs": [
    {
     "name": "stdout",
     "output_type": "stream",
     "text": [
      "KS Statistic: 0.8124174595504956\n",
      "P-Value: 3.5368004115852593e-216\n",
      "The distribution is not normal (reject null hypothesis)\n"
     ]
    }
   ],
   "source": [
    "column_to_test = data_all['tp'].values\n",
    "\n",
    "# Perform the Kolmogorov-Smirnov test\n",
    "ks_statistic, ks_p_value = kstest(column_to_test, 'norm')\n",
    "\n",
    "# Display the results\n",
    "print(f\"KS Statistic: {ks_statistic}\")\n",
    "print(f\"P-Value: {ks_p_value}\")\n",
    "\n",
    "# Decide whether to reject the null hypothesis\n",
    "alpha = 0.05\n",
    "if ks_p_value < alpha:\n",
    "    print(\"The distribution is not normal (reject null hypothesis)\")\n",
    "else:\n",
    "    print(\"No significant evidence to reject the null hypothesis (data is likely normal)\")"
   ]
  }
 ],
 "metadata": {
  "kernelspec": {
   "display_name": "skripsi",
   "language": "python",
   "name": "python3"
  },
  "language_info": {
   "codemirror_mode": {
    "name": "ipython",
    "version": 3
   },
   "file_extension": ".py",
   "mimetype": "text/x-python",
   "name": "python",
   "nbconvert_exporter": "python",
   "pygments_lexer": "ipython3",
   "version": "3.12.0"
  }
 },
 "nbformat": 4,
 "nbformat_minor": 2
}
