{
 "cells": [
  {
   "cell_type": "code",
   "execution_count": 9,
   "metadata": {},
   "outputs": [],
   "source": [
    "import pandas as pd\n",
    "from scipy.stats import kstest\n",
    "import matplotlib\n",
    "import matplotlib.pyplot as plt"
   ]
  },
  {
   "cell_type": "code",
   "execution_count": 10,
   "metadata": {},
   "outputs": [],
   "source": [
    "data_ku = pd.read_csv(r'/Users/Jia/Downloads/data_skripsi/uji_data/merged_data_KU.csv')\n",
    "data_iklim = pd.read_csv(r'/Users/Jia/Downloads/data_skripsi/uji_data/merged_data_iklim.csv')"
   ]
  },
  {
   "cell_type": "markdown",
   "metadata": {},
   "source": [
    "Merge all data"
   ]
  },
  {
   "cell_type": "code",
   "execution_count": 11,
   "metadata": {},
   "outputs": [
    {
     "data": {
      "text/html": [
       "<div>\n",
       "<style scoped>\n",
       "    .dataframe tbody tr th:only-of-type {\n",
       "        vertical-align: middle;\n",
       "    }\n",
       "\n",
       "    .dataframe tbody tr th {\n",
       "        vertical-align: top;\n",
       "    }\n",
       "\n",
       "    .dataframe thead th {\n",
       "        text-align: right;\n",
       "    }\n",
       "</style>\n",
       "<table border=\"1\" class=\"dataframe\">\n",
       "  <thead>\n",
       "    <tr style=\"text-align: right;\">\n",
       "      <th></th>\n",
       "      <th>KABKOT</th>\n",
       "      <th>month</th>\n",
       "      <th>year</th>\n",
       "      <th>time</th>\n",
       "      <th>longitude</th>\n",
       "      <th>latitude</th>\n",
       "      <th>tb</th>\n",
       "      <th>pm2p5</th>\n",
       "      <th>pm10</th>\n",
       "      <th>so2</th>\n",
       "      <th>rh</th>\n",
       "      <th>tp</th>\n",
       "    </tr>\n",
       "  </thead>\n",
       "  <tbody>\n",
       "    <tr>\n",
       "      <th>0</th>\n",
       "      <td>JAKARTA BARAT</td>\n",
       "      <td>1</td>\n",
       "      <td>2020</td>\n",
       "      <td>2020-01-01</td>\n",
       "      <td>106.750000</td>\n",
       "      <td>-6.158333</td>\n",
       "      <td>715</td>\n",
       "      <td>39.201529</td>\n",
       "      <td>56.164344</td>\n",
       "      <td>75.285376</td>\n",
       "      <td>85.895006</td>\n",
       "      <td>14.475730</td>\n",
       "    </tr>\n",
       "    <tr>\n",
       "      <th>1</th>\n",
       "      <td>JAKARTA BARAT</td>\n",
       "      <td>2</td>\n",
       "      <td>2020</td>\n",
       "      <td>2020-02-01</td>\n",
       "      <td>106.750000</td>\n",
       "      <td>-6.158333</td>\n",
       "      <td>803</td>\n",
       "      <td>38.279912</td>\n",
       "      <td>55.080459</td>\n",
       "      <td>69.029097</td>\n",
       "      <td>86.136422</td>\n",
       "      <td>13.691263</td>\n",
       "    </tr>\n",
       "    <tr>\n",
       "      <th>2</th>\n",
       "      <td>JAKARTA BARAT</td>\n",
       "      <td>3</td>\n",
       "      <td>2020</td>\n",
       "      <td>2020-03-01</td>\n",
       "      <td>106.750000</td>\n",
       "      <td>-6.158333</td>\n",
       "      <td>689</td>\n",
       "      <td>46.589306</td>\n",
       "      <td>66.366610</td>\n",
       "      <td>91.863513</td>\n",
       "      <td>84.389784</td>\n",
       "      <td>11.113327</td>\n",
       "    </tr>\n",
       "    <tr>\n",
       "      <th>3</th>\n",
       "      <td>JAKARTA BARAT</td>\n",
       "      <td>4</td>\n",
       "      <td>2020</td>\n",
       "      <td>2020-04-01</td>\n",
       "      <td>106.750000</td>\n",
       "      <td>-6.158333</td>\n",
       "      <td>359</td>\n",
       "      <td>50.980975</td>\n",
       "      <td>72.526713</td>\n",
       "      <td>107.263388</td>\n",
       "      <td>84.418225</td>\n",
       "      <td>7.677212</td>\n",
       "    </tr>\n",
       "    <tr>\n",
       "      <th>4</th>\n",
       "      <td>JAKARTA BARAT</td>\n",
       "      <td>5</td>\n",
       "      <td>2020</td>\n",
       "      <td>2020-05-01</td>\n",
       "      <td>106.750000</td>\n",
       "      <td>-6.158333</td>\n",
       "      <td>276</td>\n",
       "      <td>55.668935</td>\n",
       "      <td>79.210487</td>\n",
       "      <td>120.655917</td>\n",
       "      <td>83.599455</td>\n",
       "      <td>5.889278</td>\n",
       "    </tr>\n",
       "    <tr>\n",
       "      <th>...</th>\n",
       "      <td>...</td>\n",
       "      <td>...</td>\n",
       "      <td>...</td>\n",
       "      <td>...</td>\n",
       "      <td>...</td>\n",
       "      <td>...</td>\n",
       "      <td>...</td>\n",
       "      <td>...</td>\n",
       "      <td>...</td>\n",
       "      <td>...</td>\n",
       "      <td>...</td>\n",
       "      <td>...</td>\n",
       "    </tr>\n",
       "    <tr>\n",
       "      <th>175</th>\n",
       "      <td>JAKARTA UTARA</td>\n",
       "      <td>8</td>\n",
       "      <td>2022</td>\n",
       "      <td>2022-08-01</td>\n",
       "      <td>106.891667</td>\n",
       "      <td>-6.125000</td>\n",
       "      <td>636</td>\n",
       "      <td>60.172357</td>\n",
       "      <td>85.524501</td>\n",
       "      <td>104.867688</td>\n",
       "      <td>79.779854</td>\n",
       "      <td>2.435247</td>\n",
       "    </tr>\n",
       "    <tr>\n",
       "      <th>176</th>\n",
       "      <td>JAKARTA UTARA</td>\n",
       "      <td>9</td>\n",
       "      <td>2022</td>\n",
       "      <td>2022-09-01</td>\n",
       "      <td>106.891667</td>\n",
       "      <td>-6.125000</td>\n",
       "      <td>712</td>\n",
       "      <td>61.185956</td>\n",
       "      <td>87.035939</td>\n",
       "      <td>100.019642</td>\n",
       "      <td>80.356575</td>\n",
       "      <td>4.522162</td>\n",
       "    </tr>\n",
       "    <tr>\n",
       "      <th>177</th>\n",
       "      <td>JAKARTA UTARA</td>\n",
       "      <td>10</td>\n",
       "      <td>2022</td>\n",
       "      <td>2022-10-01</td>\n",
       "      <td>106.891667</td>\n",
       "      <td>-6.125000</td>\n",
       "      <td>715</td>\n",
       "      <td>49.726068</td>\n",
       "      <td>70.626910</td>\n",
       "      <td>92.417571</td>\n",
       "      <td>82.717352</td>\n",
       "      <td>8.589306</td>\n",
       "    </tr>\n",
       "    <tr>\n",
       "      <th>178</th>\n",
       "      <td>JAKARTA UTARA</td>\n",
       "      <td>11</td>\n",
       "      <td>2022</td>\n",
       "      <td>2022-11-01</td>\n",
       "      <td>106.891667</td>\n",
       "      <td>-6.125000</td>\n",
       "      <td>685</td>\n",
       "      <td>46.806576</td>\n",
       "      <td>66.740500</td>\n",
       "      <td>89.921922</td>\n",
       "      <td>82.045862</td>\n",
       "      <td>5.543476</td>\n",
       "    </tr>\n",
       "    <tr>\n",
       "      <th>179</th>\n",
       "      <td>JAKARTA UTARA</td>\n",
       "      <td>12</td>\n",
       "      <td>2022</td>\n",
       "      <td>2022-12-01</td>\n",
       "      <td>106.891667</td>\n",
       "      <td>-6.125000</td>\n",
       "      <td>671</td>\n",
       "      <td>39.195320</td>\n",
       "      <td>56.155258</td>\n",
       "      <td>75.753030</td>\n",
       "      <td>83.006588</td>\n",
       "      <td>7.970700</td>\n",
       "    </tr>\n",
       "  </tbody>\n",
       "</table>\n",
       "<p>180 rows × 12 columns</p>\n",
       "</div>"
      ],
      "text/plain": [
       "            KABKOT  month  year        time   longitude  latitude   tb  \\\n",
       "0    JAKARTA BARAT      1  2020  2020-01-01  106.750000 -6.158333  715   \n",
       "1    JAKARTA BARAT      2  2020  2020-02-01  106.750000 -6.158333  803   \n",
       "2    JAKARTA BARAT      3  2020  2020-03-01  106.750000 -6.158333  689   \n",
       "3    JAKARTA BARAT      4  2020  2020-04-01  106.750000 -6.158333  359   \n",
       "4    JAKARTA BARAT      5  2020  2020-05-01  106.750000 -6.158333  276   \n",
       "..             ...    ...   ...         ...         ...       ...  ...   \n",
       "175  JAKARTA UTARA      8  2022  2022-08-01  106.891667 -6.125000  636   \n",
       "176  JAKARTA UTARA      9  2022  2022-09-01  106.891667 -6.125000  712   \n",
       "177  JAKARTA UTARA     10  2022  2022-10-01  106.891667 -6.125000  715   \n",
       "178  JAKARTA UTARA     11  2022  2022-11-01  106.891667 -6.125000  685   \n",
       "179  JAKARTA UTARA     12  2022  2022-12-01  106.891667 -6.125000  671   \n",
       "\n",
       "         pm2p5       pm10         so2         rh         tp  \n",
       "0    39.201529  56.164344   75.285376  85.895006  14.475730  \n",
       "1    38.279912  55.080459   69.029097  86.136422  13.691263  \n",
       "2    46.589306  66.366610   91.863513  84.389784  11.113327  \n",
       "3    50.980975  72.526713  107.263388  84.418225   7.677212  \n",
       "4    55.668935  79.210487  120.655917  83.599455   5.889278  \n",
       "..         ...        ...         ...        ...        ...  \n",
       "175  60.172357  85.524501  104.867688  79.779854   2.435247  \n",
       "176  61.185956  87.035939  100.019642  80.356575   4.522162  \n",
       "177  49.726068  70.626910   92.417571  82.717352   8.589306  \n",
       "178  46.806576  66.740500   89.921922  82.045862   5.543476  \n",
       "179  39.195320  56.155258   75.753030  83.006588   7.970700  \n",
       "\n",
       "[180 rows x 12 columns]"
      ]
     },
     "execution_count": 11,
     "metadata": {},
     "output_type": "execute_result"
    }
   ],
   "source": [
    "data_all = data_ku.merge(data_iklim, on=['KABKOT', 'month', 'tb', 'year', 'time', 'longitude', 'latitude'], how='left')\n",
    "data_all = data_all.drop(['Unnamed: 0_x', 'Unnamed: 0_y'], axis=1)\n",
    "data_all"
   ]
  },
  {
   "cell_type": "code",
   "execution_count": null,
   "metadata": {},
   "outputs": [],
   "source": [
    "#data_all.to_csv(\"/Users/Jia/Downloads/data_skripsi/uji_data/data_all.csv\")"
   ]
  },
  {
   "cell_type": "markdown",
   "metadata": {},
   "source": [
    "COBA UJI NORMAL PM10"
   ]
  },
  {
   "cell_type": "code",
   "execution_count": 21,
   "metadata": {},
   "outputs": [
    {
     "data": {
      "text/plain": [
       "KstestResult(statistic=1.0, pvalue=0.0, statistic_location=43.20462240402313, statistic_sign=-1)"
      ]
     },
     "execution_count": 21,
     "metadata": {},
     "output_type": "execute_result"
    }
   ],
   "source": [
    "pm10 = kstest(data_all['pm10'], \"norm\") \n",
    "pm10"
   ]
  },
  {
   "cell_type": "code",
   "execution_count": 22,
   "metadata": {},
   "outputs": [
    {
     "data": {
      "text/plain": [
       "(array([ 5.,  3., 24., 19., 18., 21., 22., 30., 30.,  8.]),\n",
       " array([43.2046224 , 48.76198983, 54.31935725, 59.87672467, 65.43409209,\n",
       "        70.99145951, 76.54882694, 82.10619436, 87.66356178, 93.2209292 ,\n",
       "        98.77829662]),\n",
       " <BarContainer object of 10 artists>)"
      ]
     },
     "execution_count": 22,
     "metadata": {},
     "output_type": "execute_result"
    },
    {
     "data": {
      "image/png": "[encoded data removed]",
      "text/plain": [
       "<Figure size 640x480 with 1 Axes>"
      ]
     },
     "metadata": {},
     "output_type": "display_data"
    }
   ],
   "source": [
    "import matplotlib\n",
    "import matplotlib.pyplot as plt\n",
    "plt.hist(data_all['pm10'])"
   ]
  },
  {
   "cell_type": "code",
   "execution_count": 23,
   "metadata": {},
   "outputs": [
    {
     "name": "stdout",
     "output_type": "stream",
     "text": [
      "0\n"
     ]
    }
   ],
   "source": [
    "print(data_all['pm10'].isnull().sum())"
   ]
  },
  {
   "cell_type": "code",
   "execution_count": 25,
   "metadata": {},
   "outputs": [
    {
     "name": "stdout",
     "output_type": "stream",
     "text": [
      "KS Statistic: 1.0\n",
      "P-Value: 0.0\n",
      "The distribution is not normal (reject null hypothesis)\n"
     ]
    }
   ],
   "source": [
    "# Assuming 'pm10' is the column you want to test\n",
    "column_to_test = data_all['pm10'].values\n",
    "\n",
    "# Perform the Kolmogorov-Smirnov test\n",
    "ks_statistic, ks_p_value = kstest(column_to_test, 'norm')\n",
    "\n",
    "# Display the results\n",
    "print(f\"KS Statistic: {ks_statistic}\")\n",
    "print(f\"P-Value: {ks_p_value}\")\n",
    "\n",
    "# Decide whether to reject the null hypothesis\n",
    "alpha = 0.05\n",
    "if ks_p_value < alpha:\n",
    "    print(\"The distribution is not normal (reject null hypothesis)\")\n",
    "else:\n",
    "    print(\"No significant evidence to reject the null hypothesis (data is likely normal)\")"
   ]
  },
  {
   "cell_type": "markdown",
   "metadata": {},
   "source": [
    "COBA UJI NORMAL TB"
   ]
  },
  {
   "cell_type": "code",
   "execution_count": 26,
   "metadata": {},
   "outputs": [
    {
     "data": {
      "text/plain": [
       "KstestResult(statistic=1.0, pvalue=0.0, statistic_location=169, statistic_sign=-1)"
      ]
     },
     "execution_count": 26,
     "metadata": {},
     "output_type": "execute_result"
    }
   ],
   "source": [
    "tb = kstest(data_all['tb'], \"norm\") \n",
    "tb"
   ]
  },
  {
   "cell_type": "code",
   "execution_count": 27,
   "metadata": {},
   "outputs": [
    {
     "data": {
      "text/plain": [
       "(array([15., 34., 32., 26., 24., 14., 20.,  7.,  4.,  4.]),\n",
       " array([ 169. ,  273.1,  377.2,  481.3,  585.4,  689.5,  793.6,  897.7,\n",
       "        1001.8, 1105.9, 1210. ]),\n",
       " <BarContainer object of 10 artists>)"
      ]
     },
     "execution_count": 27,
     "metadata": {},
     "output_type": "execute_result"
    },
    {
     "data": {
      "image/png": "[encoded data removed]",
      "text/plain": [
       "<Figure size 640x480 with 1 Axes>"
      ]
     },
     "metadata": {},
     "output_type": "display_data"
    }
   ],
   "source": [
    "import matplotlib\n",
    "import matplotlib.pyplot as plt\n",
    "plt.hist(data_all['tb'])"
   ]
  },
  {
   "cell_type": "code",
   "execution_count": 28,
   "metadata": {},
   "outputs": [
    {
     "name": "stdout",
     "output_type": "stream",
     "text": [
      "KS Statistic: 1.0\n",
      "P-Value: 0.0\n",
      "The distribution is not normal (reject null hypothesis)\n"
     ]
    }
   ],
   "source": [
    "# Assuming 'tb' is the column you want to test\n",
    "column_to_test = data_all['tb'].values\n",
    "\n",
    "# Perform the Kolmogorov-Smirnov test\n",
    "ks_statistic, ks_p_value = kstest(column_to_test, 'norm')\n",
    "\n",
    "# Display the results\n",
    "print(f\"KS Statistic: {ks_statistic}\")\n",
    "print(f\"P-Value: {ks_p_value}\")\n",
    "\n",
    "# Decide whether to reject the null hypothesis\n",
    "alpha = 0.05\n",
    "if ks_p_value < alpha:\n",
    "    print(\"The distribution is not normal (reject null hypothesis)\")\n",
    "else:\n",
    "    print(\"No significant evidence to reject the null hypothesis (data is likely normal)\")"
   ]
  }
 ],
 "metadata": {
  "kernelspec": {
   "display_name": "skripsi",
   "language": "python",
   "name": "python3"
  },
  "language_info": {
   "codemirror_mode": {
    "name": "ipython",
    "version": 3
   },
   "file_extension": ".py",
   "mimetype": "text/x-python",
   "name": "python",
   "nbconvert_exporter": "python",
   "pygments_lexer": "ipython3",
   "version": "3.12.0"
  }
 },
 "nbformat": 4,
 "nbformat_minor": 2
}
